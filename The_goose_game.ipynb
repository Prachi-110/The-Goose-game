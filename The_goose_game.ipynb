{
  "nbformat": 4,
  "nbformat_minor": 0,
  "metadata": {
    "colab": {
      "name": "Copy of CSE 101 Homework Assignment #9",
      "provenance": [],
      "collapsed_sections": [],
      "include_colab_link": true
    },
    "kernelspec": {
      "name": "python3",
      "display_name": "Python 3"
    }
  },
  "cells": [
    {
      "cell_type": "markdown",
      "metadata": {
        "id": "view-in-github",
        "colab_type": "text"
      },
      "source": [
        "<a href=\"https://colab.research.google.com/github/Prachi-110/The-Goose-game/blob/main/The_goose_game.ipynb\" target=\"_parent\"><img src=\"https://colab.research.google.com/assets/colab-badge.svg\" alt=\"Open In Colab\"/></a>"
      ]
    },
    {
      "cell_type": "markdown",
      "metadata": {
        "id": "_eb9hq6S0wTc"
      },
      "source": [
        "# CSE 101: Computer Science Principles\n",
        "#### Stony Brook University, Spring 2021\n",
        "\n",
        "## Homework Assignment #9\n",
        "\n",
        "#### Due: **Saturday**, April 17, 2021 at 11:59 pm EST\n",
        "\n",
        "#### Learning Outcomes\n",
        "By the end of these exercises you should be able to:\n",
        "* Create, read and update the contents of a dictionary.\n",
        "* Implement algorithms that use dictionaries to solve problems."
      ]
    },
    {
      "cell_type": "markdown",
      "metadata": {
        "id": "gS0yTnchtKWu"
      },
      "source": [
        "### Part 1: Untitled Goose Game (10 points)\n",
        "\n",
        "In the real Untitled Goose Game, your character, a goose, is given a list of tasks to perform that generally involve tormenting people in the local village. In our SBU version, you must write the function `goose`, which takes a dictionary of items to steal (`todo`), and a second dictionary that records what the goose has stolen so far (`stolen`). The function updates the `stolen` dictionary using the entries found in `todo`. For example, suppose the `todo` dictionary contains the entry `todo['shovel'] = 2`. This indicates that the goose must steal two shovels. Now suppose that `stolen['shovel']` is `3` when the function is called. The function would update `stolen['shovel']` to `5`. The function returns updated the updated `stolen` dictionary. Do not create a new dictionary.\n",
        "\n",
        "Note: the goose sometimes steals new items. In this case, a new entry needs to be made in the `stolen` dictionary. For example, suppose the `todo` dictionary contains the entry `todo['shovel'] = 2`, but there is no `'shovel'` entry in to `stolen` dictionary. In this case, the function adds the entry `stolen['shovel'] = 2` to the `stolen` dictionary.\n",
        "\n",
        "Example #1:\n",
        "\n",
        "Inputs:\n",
        "```\n",
        "todo = {'apple': 2, 'shovel': 3, 'pail': 4}\n",
        "stolen = {'shovel': 3, 'orange': 2, 'apple': 5}\n",
        "```\n",
        "Return Value:\n",
        "```\n",
        "{'apple': 7, 'orange': 2, 'pail': 4, 'shovel': 6}\n",
        "```\n",
        "\n",
        "Example #2:\n",
        "\n",
        "Inputs:\n",
        "```\n",
        "todo = {'rake': 1, 'apple': 2, 'shovel': 3, 'pail': 4}\n",
        "stolen = {'shovel': 3, 'orange': 2, 'apple': 5}\n",
        "```\n",
        "Return Value:\n",
        "```\n",
        "{'apple': 7, 'orange': 2, 'pail': 4, 'rake': 1, 'shovel': 6}\n",
        "```\n",
        "\n",
        "Example #3:\n",
        "\n",
        "Inputs:\n",
        "```\n",
        "todo = {'rake': 1, 'orange': 4, 'shovel': 3, 'pail': 4, 'cup': 2}\n",
        "stolen = {'shovel': 3, 'apple': 5, 'hat': 2, 'bottle': 1}\n",
        "```\n",
        "Return Value:\n",
        "```\n",
        "{'apple': 5, 'bottle': 1, 'cup': 2, 'hat': 2, 'orange': 4, 'pail': 4, 'rake': 1, 'shovel': 6}\n",
        "```"
      ]
    },
    {
      "cell_type": "code",
      "metadata": {
        "id": "9G_gM7bEtKW5",
        "colab": {
          "base_uri": "https://localhost:8080/"
        },
        "outputId": "f024c426-5a63-40b9-b187-a0b92058debd"
      },
      "source": [
        "def goose(todo, stolen):\n",
        "  \n",
        "  for thing in todo:\n",
        "    if thing in stolen:\n",
        "      stolen[thing]+=todo[thing]\n",
        "    else:\n",
        "      stolen[thing]=todo[thing]\n",
        "  return stolen \n",
        "import pprint\n",
        "to_steal = {'apple': 2, 'shovel': 3, 'pail': 4}\n",
        "was_stolen = {'shovel': 3, 'orange': 2, 'apple': 5}\n",
        "pprint.pprint(goose(to_steal, was_stolen), width=100)\n",
        "\n",
        "to_steal = {'rake': 1, 'apple': 2, 'shovel': 3, 'pail': 4}\n",
        "was_stolen = {'shovel': 3, 'orange': 2, 'apple': 5}\n",
        "pprint.pprint(goose(to_steal, was_stolen), width=100)\n",
        "\n",
        "to_steal = {'rake': 1, 'orange': 4, 'shovel': 3, 'pail': 4, 'cup': 2}\n",
        "was_stolen = {'shovel': 3, 'apple': 5, 'hat': 2, 'bottle': 1}\n",
        "pprint.pprint(goose(to_steal, was_stolen), width=100)"
      ],
      "execution_count": null,
      "outputs": [
        {
          "output_type": "stream",
          "text": [
            "{'apple': 7, 'orange': 2, 'pail': 4, 'shovel': 6}\n",
            "{'apple': 7, 'orange': 2, 'pail': 4, 'rake': 1, 'shovel': 6}\n",
            "{'apple': 5, 'bottle': 1, 'cup': 2, 'hat': 2, 'orange': 4, 'pail': 4, 'rake': 1, 'shovel': 6}\n"
          ],
          "name": "stdout"
        }
      ]
    },
    {
      "cell_type": "markdown",
      "metadata": {
        "id": "MUjOA-HgncpC"
      },
      "source": [
        "### Part 2: Untitled Goose Game: Cooperative Mode (15 points)\n",
        "\n",
        "In cooperative mode of Untitled Goose Game, two geese are each given a list of things to steal. The function `goose_coop` takes two lists of items to steal (strings), and returns a dictionary that counts how many of each item was stolen. It also returns the number of *kinds* of items stolen; in other words, it returns the number of unique types of things stolen. The same item could appear multiple times in a list, meaning that more than one of that item was stolen by a single goose.\n",
        "\n",
        "Example #1:\n",
        "\n",
        "Inputs:\n",
        "```\n",
        "goose1 = ['apple', 'orange', 'apple', 'apple', 'pail', 'apple']\n",
        "goose2 = ['shovel', 'apple', 'pail']\n",
        "```\n",
        "Return Values:\n",
        "```\n",
        "{'apple': 5, 'orange': 1, 'pail': 2, 'shovel': 1}\n",
        "4  # why 4? because 4 different kinds of items were stolen\n",
        "```\n",
        "\n",
        "Example #2:\n",
        "\n",
        "Inputs:\n",
        "```\n",
        "goose1 = ['orange', 'rake']\n",
        "goose2 = ['shovel', 'apple', 'pail']\n",
        "```\n",
        "Return Values:\n",
        "```\n",
        "{'apple': 1, 'orange': 1, 'pail': 1, 'rake': 1, 'shovel': 1}\n",
        "5\n",
        "```\n",
        "\n",
        "Example #3:\n",
        "\n",
        "Inputs:\n",
        "```\n",
        "goose1 = ['apple', 'orange', 'apple', 'pear']\n",
        "goose2 = ['shovel', 'shovel', 'shovel', 'shovel', 'shovel']\n",
        "```\n",
        "Return Values:\n",
        "```\n",
        "{'apple': 2, 'orange': 1, 'pear': 1, 'shovel': 5}\n",
        "4\n",
        "```\n"
      ]
    },
    {
      "cell_type": "code",
      "metadata": {
        "id": "cW_zvn7wncpE",
        "colab": {
          "base_uri": "https://localhost:8080/"
        },
        "outputId": "7dc44eb0-e53e-4a4d-bc87-4216555dfe05"
      },
      "source": [
        "def goose_coop(goose1, goose2):\n",
        "  total={}\n",
        "  for i in goose1+goose2:\n",
        "    if i in total:\n",
        "      total[i]+=1\n",
        "    else:\n",
        "      total[i]=1\n",
        "  return total , len(total)\n",
        "  \n",
        "  \n",
        "\n",
        "# Test cases\n",
        "import pprint\n",
        "goose1 = ['apple', 'orange', 'apple', 'apple', 'pail', 'apple']\n",
        "goose2 = ['shovel', 'apple', 'pail']\n",
        "result_dict, item_count = goose_coop(goose1, goose2)\n",
        "pprint.pprint(result_dict)\n",
        "print(item_count)\n",
        "\n",
        "goose1 = ['orange', 'rake']\n",
        "goose2 = ['shovel', 'apple', 'pail']\n",
        "result_dict, item_count = goose_coop(goose1, goose2)\n",
        "pprint.pprint(result_dict)\n",
        "print(item_count)\n",
        "\n",
        "goose1 = ['apple', 'orange', 'apple', 'pear']\n",
        "goose2 = ['shovel', 'shovel', 'shovel', 'shovel', 'shovel']\n",
        "result_dict, item_count = goose_coop(goose1, goose2)\n",
        "pprint.pprint(result_dict)\n",
        "print(item_count)"
      ],
      "execution_count": null,
      "outputs": [
        {
          "output_type": "stream",
          "text": [
            "['apple', 'orange', 'apple', 'apple', 'pail', 'apple', 'shovel', 'apple', 'pail']\n",
            "{'apple': 5, 'orange': 1, 'pail': 2, 'shovel': 1}\n",
            "4\n",
            "['orange', 'rake', 'shovel', 'apple', 'pail']\n",
            "{'apple': 1, 'orange': 1, 'pail': 1, 'rake': 1, 'shovel': 1}\n",
            "5\n",
            "['apple', 'orange', 'apple', 'pear', 'shovel', 'shovel', 'shovel', 'shovel', 'shovel']\n",
            "{'apple': 2, 'orange': 1, 'pear': 1, 'shovel': 5}\n",
            "4\n"
          ],
          "name": "stdout"
        }
      ]
    },
    {
      "cell_type": "markdown",
      "metadata": {
        "id": "h6gs0GTwnc9R"
      },
      "source": [
        "### Part 3: Untitled Goose Game: Scoring  (15 points)\n",
        "\n",
        "In this part we will simulate scoring some gameplay of Untitled Goose Game. The goose runs around performing tasks and scoring (or losing!) points according to the table below:\n",
        "\n",
        "Possible Actions | Represented By | Points\n",
        ":-- | :-- | :--\n",
        "Steal a carrot | `'steal'` | 1\n",
        "Lock the farmer out of his garden | `'lock'` | 3\n",
        "Give a performance to a lady and get rewarded with a flower | `'perform'` | 6\n",
        "Be on TV | `'tv'` | 10\n",
        "Get chased out of the bar | `'chased'` | -1\n",
        "Scare the boy | `'scare'` | -3\n",
        "Break a glass | `'break'` | -8\n",
        "\n",
        "Complete the function `goose_points`, which takes a list of `actions` performed by the goose and then returns the total score for that list of actions.\n",
        "\n",
        "However, some special modifiers apply to the point values given above:\n",
        "* The first two TV appearances score 10 points each, but **each** subsequent TV appearance scores only 5 points.\n",
        "\n",
        "* If the combined number of times the goose broke a glass or scared the boy is 3 or greater, subtract 6 points from the total score.\n",
        "\n",
        "Hint #1: use a dictionary to represent the table of points, where each action is a key and its corresponding points provide the value.\n",
        "\n",
        "Hint #2: consider using a dictionary to count how many times each action is performed. Using a dictionary is not required to compute those counts, but it's a good chance to practice using dictionaries.\n",
        "\n",
        "Example #1:\n",
        "\n",
        "Input: `actions = ['scare', 'tv', 'lock', 'steal', 'tv', 'perform', 'chased']`\n",
        "\n",
        "Return Value:  `26`\n",
        "\n",
        "\n",
        "Example #2:\n",
        "\n",
        "Input: `actions = ['tv', 'lock', 'scare', 'tv', 'lock', 'steal', 'tv', 'tv']`\n",
        "\n",
        "Return Value:  `34`\n",
        "\n",
        "\n",
        "Example #3:\n",
        "\n",
        "Input: `actions = ['scare', 'tv', 'lock', 'break', 'break', 'break', 'tv']`\n",
        "\n",
        "Return Value:  `-10`\n",
        "\n",
        "\n",
        "Example #4:\n",
        "\n",
        "Input: `actions = ['steal', 'steal', 'scare', 'break', 'steal', 'tv', 'tv', 'break', 'tv']`\n",
        "\n",
        "Return Value:  `3`\n",
        "\n",
        "\n",
        "Example #5:\n",
        "\n",
        "Input: `actions = ['tv', 'lock', 'break', 'steal', 'scare', 'perform', 'perform', 'tv', 'scare', 'steal', 'tv']`\n",
        "\n",
        "Return Value:  `22`\n",
        "\n"
      ]
    },
    {
      "cell_type": "code",
      "metadata": {
        "id": "bkzVRID-nc9R",
        "colab": {
          "base_uri": "https://localhost:8080/"
        },
        "outputId": "0a3485c3-782a-429c-a82a-f70300319405"
      },
      "source": [
        "def goose_points(actions):\n",
        "  total=0\n",
        "  action={'steal':1 ,'lock':3 ,'perform':6,'tv':10 ,'chased':-1 ,'scare':-3, 'break':-8} \n",
        "  ex={}\n",
        "  for i in actions:\n",
        "    ex[i]=actions.count(i)\n",
        "  if 'lock' in ex:\n",
        "    p=ex['lock']*action['lock']\n",
        "    total+=p\n",
        "  if 'steal' in ex:\n",
        "    p=ex['steal']*action['steal']\n",
        "    total+=p\n",
        "  if 'perform' in ex:\n",
        "    p=ex['perform']*action['perform']\n",
        "    total+=p\n",
        "  if 'chased' in ex:\n",
        "    p=ex['chased']*action['chased']\n",
        "    total+=p\n",
        "  if 'scare' in ex:\n",
        "    p=ex['scare']*action['scare']\n",
        "    total+=p\n",
        "  if 'break' in ex:\n",
        "    p=ex['break']*action['break']\n",
        "    total+=p\n",
        "  if 'tv' in ex:\n",
        "    if ex['tv']<=2:\n",
        "      p=ex['tv']*action['tv']\n",
        "      total+=p\n",
        "    elif ex['tv']>2:\n",
        "      p=2*action['tv']\n",
        "      p+=(ex['tv']-2)*5\n",
        "      total+=p\n",
        "  if 'break' in ex and 'scare' in ex and (ex['break']+ex['scare']):\n",
        "    total-=6\n",
        "  return total\n",
        "# Test cases\n",
        "print(goose_points(['scare', 'tv', 'lock', 'steal', 'tv', 'perform', 'chased']))\n",
        "print(goose_points(['tv', 'lock', 'scare', 'tv', 'lock', 'steal', 'tv', 'tv']))\n",
        "print(goose_points(['scare', 'tv', 'lock', 'break', 'break', 'break', 'tv']))\n",
        "print(goose_points(['steal', 'steal', 'scare', 'break', 'steal', 'tv', 'tv', 'break', 'tv']))\n",
        "print(goose_points(['tv', 'lock', 'break', 'steal', 'scare', 'perform', 'perform', 'tv', 'scare', 'steal', 'tv']))"
      ],
      "execution_count": null,
      "outputs": [
        {
          "output_type": "stream",
          "text": [
            "26\n",
            "34\n",
            "-10\n",
            "3\n",
            "22\n"
          ],
          "name": "stdout"
        }
      ]
    },
    {
      "cell_type": "markdown",
      "metadata": {
        "id": "TvPRG-Orc18k"
      },
      "source": [
        "#### Extra Credit: Armstrong Numbers (10 points)\n",
        "\n",
        "An Armstrong number is an n-digit integer such that the sum of the n-th power of its digits is equal to the number itself. For example, $371$ is an Armstrong number becase $3^3 + 7^3 + 1^3 = 371$ ($371$ is a 3-digit number). $8208$ is an Armstrong number because $8^4 + 2^4 + 0^4 + 8^4 = 8208$ ($8208$ is a 4-digit number).\n",
        "\n",
        "Complete the function `armstrong_number()`, which takes two arguments, in this order:\n",
        "  1. `a`: a positive integer in the range [10,100000], inclusive.\n",
        "  1. `b`: a positive integer in the range [10,100000], inclusive.\n",
        "\n",
        "The function returns a list containing the Armstrong numbers within the range [`a`, `b`] in ascending order. If `a` or `b` is outside the range 10-1000000 (inclusive) or if `a` > `b`, the function simply returns an empty list, `[]`. \n",
        "\n",
        "Expected Results:\n",
        "\n",
        "Function Call | Return Value\n",
        ":-- | :--\n",
        "`armstrong_number(10, 1000)` | `[153, 370, 371, 407]`\n",
        "`armstrong_number(50, 400)` | `[153, 370, 371]`\n",
        "`armstrong_number(500, 5000)` | `[1634]`\n",
        "`armstrong_number(25000, 100000)` | `[54748, 92727, 93084]`\n",
        "`armstrong_number(8000, 20000)` | `[8208, 9474]`\n",
        "`armstrong_number(1000, 200)` | `[]`\n",
        "`armstrong_number(1000, 2000000)` | `[]`\n"
      ]
    },
    {
      "cell_type": "code",
      "metadata": {
        "id": "iGqH0ajme2gr",
        "colab": {
          "base_uri": "https://localhost:8080/"
        },
        "outputId": "862ad42e-2574-4e1e-e9da-f53d22e6f987"
      },
      "source": [
        "def armstrong_number(a, b):\n",
        "  if (a<10 or a>1000000) or (b<10 or b>1000000):\n",
        "    return []\n",
        "  else:\n",
        "    number=[]\n",
        "    for i in range(a,b+1):\n",
        "      x=i \n",
        "      l= len(str(i))   \n",
        "      a=0\n",
        "      while x>10:\n",
        "        a+=(x%10)**l\n",
        "        x//=10\n",
        "      a+=(x%10)**l\n",
        "      if a==i:\n",
        "        number.append(i)   \n",
        "  return number    \n",
        "print(armstrong_number(10, 1000))\n",
        "print(armstrong_number(50, 400))\n",
        "print(armstrong_number(500, 5000))\n",
        "print(armstrong_number(25000, 100000))\n",
        "print(armstrong_number(8000, 20000))\n",
        "print(armstrong_number(1000, 200))\n",
        "print(armstrong_number(1000, 2000000))"
      ],
      "execution_count": null,
      "outputs": [
        {
          "output_type": "stream",
          "text": [
            "[153, 370, 371, 407]\n",
            "[153, 370, 371]\n",
            "[1634]\n",
            "[54748, 92727, 93084]\n",
            "[8208, 9474]\n",
            "[]\n",
            "[]\n"
          ],
          "name": "stdout"
        }
      ]
    },
    {
      "cell_type": "markdown",
      "metadata": {
        "id": "1x4tU4ahZyUL"
      },
      "source": [
        "### How to Submit Your Work\n",
        "\n",
        "1. Go to the [course website](https://sites.google.com/stonybrook.edu/cse101/homework-labs).\n",
        "\n",
        "1. Click the **Submit** link for this assignment.\n",
        "\n",
        "1. Type your Net ID (Blackboard login) on the line provided.\n",
        "\n",
        "1. Press the button marked **Add file**.\n",
        "\n",
        "1. Click the **My Drive** tab.\n",
        "\n",
        "1. Click on the file you wish to submit.\n",
        "\n",
        "1. Hit **Select**.\n",
        "\n",
        "1. Hit **Submit** to submit your file grading."
      ]
    }
  ]
}