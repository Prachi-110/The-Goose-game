{
  "nbformat": 4,
  "nbformat_minor": 0,
  "metadata": {
    "colab": {
      "name": "The Goose Game",
      "provenance": [],
      "collapsed_sections": [],
      "include_colab_link": true
    },
    "kernelspec": {
      "name": "python3",
      "display_name": "Python 3"
    }
  },
  "cells": [
    {
      "cell_type": "markdown",
      "metadata": {
        "id": "view-in-github",
        "colab_type": "text"
      },
      "source": [
        "<a href=\"https://colab.research.google.com/github/Prachi-110/The-Goose-game/blob/main/The_Goose_Game.ipynb\" target=\"_parent\"><img src=\"https://colab.research.google.com/assets/colab-badge.svg\" alt=\"Open In Colab\"/></a>"
      ]
    },
    {
      "cell_type": "markdown",
      "metadata": {
        "id": "_eb9hq6S0wTc"
      },
      "source": [
        "## The Goose Game\n",
        "\n",
        "### Summary\n",
        "* Created, read and updated the contents of a dictionary.\n",
        "* Implemented algorithms that use dictionaries to solve problems."
      ]
    },
    {
      "cell_type": "markdown",
      "metadata": {
        "id": "gS0yTnchtKWu"
      },
      "source": [
        "### Goose Game Part 1\n",
        "\n",
        "Given a list of tasks to perform to a character goose. \n",
        "\n",
        "The following are the componenets included: \n",
        "the function `goose` takes in a dictionary of items to steal (`todo`),\n",
        " second dictionary that records what the goose has stolen so far (`stolen`).\n",
        " \n",
        "  The function updates the `stolen` dictionary using the entries found in `todo`. For example, suppose the `todo` dictionary contains the entry `todo['shovel'] = 2`. This indicates that the goose must steal two shovels. Now suppose that `stolen['shovel']` is `3` when the function is called. The function would update `stolen['shovel']` to `5`. The function returns the updated `stolen` dictionary.\n",
        "\n",
        "Note: The goose sometimes steals new items. In this case, a new entry needs to be made in the `stolen` dictionary. For example, suppose the `todo` dictionary contains the entry `todo['shovel'] = 2`, but there is no `'shovel'` entry in to `stolen` dictionary. In this case, the function adds the entry `stolen['shovel'] = 2` to the `stolen` dictionary.\n",
        "\n",
        "Example #1:\n",
        "\n",
        "Inputs:\n",
        "```\n",
        "todo = {'apple': 2, 'shovel': 3, 'pail': 4}\n",
        "stolen = {'shovel': 3, 'orange': 2, 'apple': 5}\n",
        "```\n",
        "Return Value:\n",
        "```\n",
        "{'apple': 7, 'orange': 2, 'pail': 4, 'shovel': 6}\n",
        "```\n",
        "\n",
        "Example #2:\n",
        "\n",
        "Inputs:\n",
        "```\n",
        "todo = {'rake': 1, 'apple': 2, 'shovel': 3, 'pail': 4}\n",
        "stolen = {'shovel': 3, 'orange': 2, 'apple': 5}\n",
        "```\n",
        "Return Value:\n",
        "```\n",
        "{'apple': 7, 'orange': 2, 'pail': 4, 'rake': 1, 'shovel': 6}\n",
        "```\n",
        "\n",
        "Example #3:\n",
        "\n",
        "Inputs:\n",
        "```\n",
        "todo = {'rake': 1, 'orange': 4, 'shovel': 3, 'pail': 4, 'cup': 2}\n",
        "stolen = {'shovel': 3, 'apple': 5, 'hat': 2, 'bottle': 1}\n",
        "```\n",
        "Return Value:\n",
        "```\n",
        "{'apple': 5, 'bottle': 1, 'cup': 2, 'hat': 2, 'orange': 4, 'pail': 4, 'rake': 1, 'shovel': 6}\n",
        "```"
      ]
    },
    {
      "cell_type": "code",
      "metadata": {
        "id": "9G_gM7bEtKW5",
        "colab": {
          "base_uri": "https://localhost:8080/"
        },
        "outputId": "fe700c67-8edd-4e4d-8084-6c9ff1df9690"
      },
      "source": [
        "def goose(todo, stolen):\n",
        "  \n",
        "  for thing in todo:\n",
        "    if thing in stolen:\n",
        "      stolen[thing]+=todo[thing]\n",
        "    else:\n",
        "      stolen[thing]=todo[thing]\n",
        "  return stolen \n",
        "#test cases\n",
        "import pprint\n",
        "to_steal = {'apple': 2, 'shovel': 3, 'pail': 4}\n",
        "was_stolen = {'shovel': 3, 'orange': 2, 'apple': 5}\n",
        "pprint.pprint(goose(to_steal, was_stolen), width=100)\n",
        "\n",
        "to_steal = {'rake': 1, 'apple': 2, 'shovel': 3, 'pail': 4}\n",
        "was_stolen = {'shovel': 3, 'orange': 2, 'apple': 5}\n",
        "pprint.pprint(goose(to_steal, was_stolen), width=100)\n",
        "\n",
        "to_steal = {'rake': 1, 'orange': 4, 'shovel': 3, 'pail': 4, 'cup': 2}\n",
        "was_stolen = {'shovel': 3, 'apple': 5, 'hat': 2, 'bottle': 1}\n",
        "pprint.pprint(goose(to_steal, was_stolen), width=100)"
      ],
      "execution_count": null,
      "outputs": [
        {
          "output_type": "stream",
          "name": "stdout",
          "text": [
            "{'apple': 7, 'orange': 2, 'pail': 4, 'shovel': 6}\n",
            "{'apple': 7, 'orange': 2, 'pail': 4, 'rake': 1, 'shovel': 6}\n",
            "{'apple': 5, 'bottle': 1, 'cup': 2, 'hat': 2, 'orange': 4, 'pail': 4, 'rake': 1, 'shovel': 6}\n"
          ]
        }
      ]
    },
    {
      "cell_type": "markdown",
      "metadata": {
        "id": "MUjOA-HgncpC"
      },
      "source": [
        "###Goose Game Part 2\n",
        "\n",
        "In Goose Game Part 2, two geese are each given a list of things to steal. The function `goose_coop` takes two lists of items to steal (strings), and returns a dictionary that counts how many of each item was stolen. It also returns the number of *kinds* of items stolen. The same item could have appeared multiple times in a list.\n",
        "\n",
        "Example #1:\n",
        "\n",
        "Inputs:\n",
        "```\n",
        "goose1 = ['apple', 'orange', 'apple', 'apple', 'pail', 'apple']\n",
        "goose2 = ['shovel', 'apple', 'pail']\n",
        "```\n",
        "Return Values:\n",
        "```\n",
        "{'apple': 5, 'orange': 1, 'pail': 2, 'shovel': 1}\n",
        "\n",
        "```\n",
        "\n",
        "Example #2:\n",
        "\n",
        "Inputs:\n",
        "```\n",
        "goose1 = ['orange', 'rake']\n",
        "goose2 = ['shovel', 'apple', 'pail']\n",
        "```\n",
        "Return Values:\n",
        "```\n",
        "{'apple': 1, 'orange': 1, 'pail': 1, 'rake': 1, 'shovel': 1}\n",
        "5\n",
        "```\n",
        "\n",
        "Example #3:\n",
        "\n",
        "Inputs:\n",
        "```\n",
        "goose1 = ['apple', 'orange', 'apple', 'pear']\n",
        "goose2 = ['shovel', 'shovel', 'shovel', 'shovel', 'shovel']\n",
        "```\n",
        "Return Values:\n",
        "```\n",
        "{'apple': 2, 'orange': 1, 'pear': 1, 'shovel': 5}\n",
        "4\n",
        "```\n"
      ]
    },
    {
      "cell_type": "code",
      "metadata": {
        "id": "cW_zvn7wncpE",
        "colab": {
          "base_uri": "https://localhost:8080/"
        },
        "outputId": "887f67c6-d9c5-483e-a722-c522dd206f80"
      },
      "source": [
        "def goose_coop(goose1, goose2):\n",
        "  total={}\n",
        "  for i in goose1+goose2:\n",
        "    if i in total:\n",
        "      total[i]+=1\n",
        "    else:\n",
        "      total[i]=1\n",
        "  return total , len(total)\n",
        "  \n",
        "  \n",
        "\n",
        "# Test cases\n",
        "import pprint\n",
        "goose1 = ['apple', 'orange', 'apple', 'apple', 'pail', 'apple']\n",
        "goose2 = ['shovel', 'apple', 'pail']\n",
        "result_dict, item_count = goose_coop(goose1, goose2)\n",
        "pprint.pprint(result_dict)\n",
        "print(item_count)\n",
        "\n",
        "goose1 = ['orange', 'rake']\n",
        "goose2 = ['shovel', 'apple', 'pail']\n",
        "result_dict, item_count = goose_coop(goose1, goose2)\n",
        "pprint.pprint(result_dict)\n",
        "print(item_count)\n",
        "\n",
        "goose1 = ['apple', 'orange', 'apple', 'pear']\n",
        "goose2 = ['shovel', 'shovel', 'shovel', 'shovel', 'shovel']\n",
        "result_dict, item_count = goose_coop(goose1, goose2)\n",
        "pprint.pprint(result_dict)\n",
        "print(item_count)"
      ],
      "execution_count": null,
      "outputs": [
        {
          "output_type": "stream",
          "name": "stdout",
          "text": [
            "{'apple': 5, 'orange': 1, 'pail': 2, 'shovel': 1}\n",
            "4\n",
            "{'apple': 1, 'orange': 1, 'pail': 1, 'rake': 1, 'shovel': 1}\n",
            "5\n",
            "{'apple': 2, 'orange': 1, 'pear': 1, 'shovel': 5}\n",
            "4\n"
          ]
        }
      ]
    },
    {
      "cell_type": "markdown",
      "metadata": {
        "id": "h6gs0GTwnc9R"
      },
      "source": [
        "###Goose Game Part 3\n",
        "\n",
        "In this part I simulated scoring same as gameplay of Goose Game Part 1. The goose runs around performing tasks and scoring (or losing!) points according to the table below:\n",
        "\n",
        "Possible Actions | Represented By | Points\n",
        ":-- | :-- | :--\n",
        "Steal a carrot | `'steal'` | 1\n",
        "Lock the farmer out of his garden | `'lock'` | 3\n",
        "Give a performance to a lady and get rewarded with a flower | `'perform'` | 6\n",
        "Be on TV | `'tv'` | 10\n",
        "Get chased out of the bar | `'chased'` | -1\n",
        "Scare the boy | `'scare'` | -3\n",
        "Break a glass | `'break'` | -8\n",
        "\n",
        "The function `goose_points`, takes a list of `actions` performed by the goose and then returns the total score for that list of actions.\n",
        "\n",
        "Special modifiers:\n",
        "* The first two TV appearances score 10 points each, but **each** subsequent TV appearance scores only 5 points.\n",
        "\n",
        "* If the combined number of times the goose broke a glass or scared the boy is 3 or greater, subtract 6 points from the total score.\n",
        "\n",
        "Example #1:\n",
        "\n",
        "Input: `actions = ['scare', 'tv', 'lock', 'steal', 'tv', 'perform', 'chased']`\n",
        "\n",
        "Return Value:  `26`\n",
        "\n",
        "Example #2:\n",
        "\n",
        "Input: `actions = ['tv', 'lock', 'scare', 'tv', 'lock', 'steal', 'tv', 'tv']`\n",
        "\n",
        "Return Value:  `34`\n",
        "\n",
        "\n",
        "Example #3:\n",
        "\n",
        "Input: `actions = ['scare', 'tv', 'lock', 'break', 'break', 'break', 'tv']`\n",
        "\n",
        "Return Value:  `-10`\n",
        "\n",
        "\n",
        "Example #4:\n",
        "\n",
        "Input: `actions = ['steal', 'steal', 'scare', 'break', 'steal', 'tv', 'tv', 'break', 'tv']`\n",
        "\n",
        "Return Value:  `3`\n"
      ]
    },
    {
      "cell_type": "code",
      "metadata": {
        "id": "bkzVRID-nc9R",
        "colab": {
          "base_uri": "https://localhost:8080/"
        },
        "outputId": "0a5b0aa4-3b6a-41af-9625-a55faba313f3"
      },
      "source": [
        "def goose_points(actions):\n",
        "   # a dictionary to represent the table of points, where each action is a key and its corresponding points provide the value.\n",
        "    # used a dictionary to count how many times each action is performed. \n",
        "  total=0\n",
        "  action={'steal':1 ,'lock':3 ,'perform':6,'tv':10 ,'chased':-1 ,'scare':-3, 'break':-8} \n",
        "  ex={}\n",
        "  for i in actions:\n",
        "    ex[i]=actions.count(i)\n",
        "  if 'lock' in ex:\n",
        "    p=ex['lock']*action['lock']\n",
        "    total+=p\n",
        "  if 'steal' in ex:\n",
        "    p=ex['steal']*action['steal']\n",
        "    total+=p\n",
        "  if 'perform' in ex:\n",
        "    p=ex['perform']*action['perform']\n",
        "    total+=p\n",
        "  if 'chased' in ex:\n",
        "    p=ex['chased']*action['chased']\n",
        "    total+=p\n",
        "  if 'scare' in ex:\n",
        "    p=ex['scare']*action['scare']\n",
        "    total+=p\n",
        "  if 'break' in ex:\n",
        "    p=ex['break']*action['break']\n",
        "    total+=p\n",
        "  if 'tv' in ex:\n",
        "    if ex['tv']<=2:\n",
        "      p=ex['tv']*action['tv']\n",
        "      total+=p\n",
        "    elif ex['tv']>2:\n",
        "      p=2*action['tv']\n",
        "      p+=(ex['tv']-2)*5\n",
        "      total+=p\n",
        "  if 'break' in ex and 'scare' in ex and (ex['break']+ex['scare']):\n",
        "    total-=6\n",
        "  return total\n",
        "# Test cases\n",
        "print(goose_points(['scare', 'tv', 'lock', 'steal', 'tv', 'perform', 'chased']))\n",
        "print(goose_points(['tv', 'lock', 'scare', 'tv', 'lock', 'steal', 'tv', 'tv']))\n",
        "print(goose_points(['scare', 'tv', 'lock', 'break', 'break', 'break', 'tv']))\n",
        "print(goose_points(['steal', 'steal', 'scare', 'break', 'steal', 'tv', 'tv', 'break', 'tv']))\n",
        "print(goose_points(['tv', 'lock', 'break', 'steal', 'scare', 'perform', 'perform', 'tv', 'scare', 'steal', 'tv']))"
      ],
      "execution_count": null,
      "outputs": [
        {
          "output_type": "stream",
          "name": "stdout",
          "text": [
            "26\n",
            "34\n",
            "-10\n",
            "3\n",
            "22\n"
          ]
        }
      ]
    }
  ]
}